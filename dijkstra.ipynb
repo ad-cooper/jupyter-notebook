{
 "cells": [
  {
   "cell_type": "code",
   "execution_count": 3,
   "id": "gentle-sentence",
   "metadata": {
    "tags": []
   },
   "outputs": [],
   "source": [
    "# Switch to python virtualenv (change this to path to site-packages in venv)\n",
    "import sys\n",
    "sys.path.append('.venv/lib/python3.9/site-packages/')\n",
    "import numpy as np\n",
    "# X = Blocked, O = Available\n",
    "grid = np.array([\n",
    "    ['O','O','O','O','O'],\n",
    "    ['X','O','O','O','X'],\n",
    "    ['X','O','O','O','X'],\n",
    "    ['O','O','X','O','O'],\n",
    "    ['O','X','O','O','X']\n",
    "])\n",
    "# Grid width/height (assuming grid is equal width and height), used later to iterate through neightbours\n",
    "grid_size = len(grid[0])"
   ]
  },
  {
   "cell_type": "code",
   "execution_count": 8,
   "id": "blank-parish",
   "metadata": {},
   "outputs": [
    {
     "name": "stdout",
     "output_type": "stream",
     "text": [
      "(0, 4)\n"
     ]
    }
   ],
   "source": [
    "# Start in bottom left, finish in top right\n",
    "start = (grid_size-1, 0)\n",
    "finish = (0, grid_size-1)\n",
    "print(finish)"
   ]
  },
  {
   "cell_type": "markdown",
   "id": "brazilian-coordination",
   "metadata": {},
   "source": [
    "Let the node at which we are starting be called the '''initial node'''. Let the '''distance of node ''Y''''' be the distance from the '''initial node''' to ''Y''. Dijkstra's algorithm will assign some initial distance values and will try to improve them step by step.\n",
    "\n",
    "1. Mark all nodes unvisited. Create a set of all the unvisited nodes called the ''unvisited set''.\n",
    "1. Assign to every node a tentative distance value: set it to zero for our initial node and to infinity for all other nodes. Set the initial node as current.\n",
    "1. For the current node, consider all of its unvisited neighbours and calculate their ''tentative'' distances through the current node. Compare the newly calculated ''tentative'' distance to the current assigned value and assign the smaller one. For example, if the current node ''A'' is marked with a distance of 6, and the edge connecting it with a neighbour ''B'' has length 2, then the distance to ''B'' through ''A'' will be 6 + 2 = 8. If B was previously marked with a distance greater than 8 then change it to 8. Otherwise, the current value will be kept.\n",
    "1. When we are done considering all of the unvisited neighbours of the current node, mark the current node as visited and remove it from the ''unvisited set''. A visited node will never be checked again.\n",
    "1. If the destination node has been marked visited (when planning a route between two specific nodes) or if the smallest tentative distance among the nodes in the ''unvisited set'' is infinity (when planning a complete traversal; occurs when there is no connection between the initial node and remaining unvisited nodes), then stop. The algorithm has finished.\n",
    "1. Otherwise, select the unvisited node that is marked with the smallest tentative distance, set it as the new \"current node\", and go back to step 3.\n",
    "\n",
    "When planning a route, it is actually not necessary to wait until the destination node is \"visited\" as above: the algorithm can stop once the destination node has the smallest tentative distance among all \"unvisited\" nodes (and thus could be selected as the next \"current\")."
   ]
  },
  {
   "cell_type": "code",
   "execution_count": 11,
   "id": "corrected-tractor",
   "metadata": {},
   "outputs": [
    {
     "name": "stdout",
     "output_type": "stream",
     "text": [
      "[[ 6.  5.  6.  7.  8.]\n",
      " [inf  4.  5.  6. inf]\n",
      " [inf  3.  4.  5. inf]\n",
      " [ 1.  2. inf  6.  7.]\n",
      " [ 0. inf  8.  7. inf]]\n"
     ]
    }
   ],
   "source": [
    "def get_neighbours(index, size):\n",
    "    x, y = index\n",
    "    results = []\n",
    "    if x != 0:\n",
    "        results.append((x-1, y))\n",
    "    if x != size - 1:\n",
    "        results.append((x+1, y))\n",
    "    if y != 0:\n",
    "        results.append((x, y-1))\n",
    "    if y != size - 1:\n",
    "        results.append((x, y+1))\n",
    "    return results\n",
    "\n",
    "# Whether node has been visited\n",
    "visited = np.full((grid_size, grid_size), False)\n",
    "# Initialize all distances to infinity\n",
    "distances = np.full((grid_size, grid_size), np.Infinity)\n",
    "distances[start] = 0\n",
    "current_node = start\n",
    "while not visited[finish]:\n",
    "    for neighbour in get_neighbours(current_node, grid_size):\n",
    "        if visited[neighbour]:\n",
    "            continue\n",
    "        # Skip blocked grid squares\n",
    "        if grid[neighbour] == 'X':\n",
    "            continue\n",
    "        # Just assume all edges have the same cost of 1\n",
    "        edge_cost = 1\n",
    "        distances[neighbour] = min(distances[current_node] + edge_cost, distances[neighbour])\n",
    "    # select unvisited node with smallest distance\n",
    "    visited[current_node] = True\n",
    "    min_index = None\n",
    "    min_value = None\n",
    "    for x in range(grid_size):\n",
    "        for y in range(grid_size):\n",
    "            if not visited[(x, y)]:\n",
    "                if min_value == None or distances[(x, y)] < min_value:\n",
    "                    min_value = distances[(x, y)]\n",
    "                    min_index = (x, y)\n",
    "    current_node = min_index\n",
    "print(distances)"
   ]
  }
 ],
 "metadata": {
  "kernelspec": {
   "display_name": ".venv",
   "language": "python",
   "name": ".venv"
  },
  "language_info": {
   "codemirror_mode": {
    "name": "ipython",
    "version": 3
   },
   "file_extension": ".py",
   "mimetype": "text/x-python",
   "name": "python",
   "nbconvert_exporter": "python",
   "pygments_lexer": "ipython3",
   "version": "3.9.1"
  }
 },
 "nbformat": 4,
 "nbformat_minor": 5
}
